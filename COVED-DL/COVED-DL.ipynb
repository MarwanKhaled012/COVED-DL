{
 "cells": [
  {
   "cell_type": "code",
   "execution_count": null,
   "metadata": {
    "id": "DJPXv9oHxpZk"
   },
   "outputs": [],
   "source": [
    "%tensorflow_version 2.x\n",
    "import tensorflow as tf"
   ]
  },
  {
   "cell_type": "code",
   "execution_count": null,
   "metadata": {
    "id": "ISx9hSdVCa60"
   },
   "outputs": [],
   "source": [
    "# upload googl drive\n",
    "from google.colab import drive"
   ]
  },
  {
   "cell_type": "code",
   "execution_count": null,
   "metadata": {
    "colab": {
     "base_uri": "https://localhost:8080/"
    },
    "id": "VHeDwNeUDa6-",
    "outputId": "2cbf9c2e-380a-4aa3-f026-566db2d96f5c"
   },
   "outputs": [
    {
     "name": "stdout",
     "output_type": "stream",
     "text": [
      "Drive already mounted at /content/drive; to attempt to forcibly remount, call drive.mount(\"/content/drive\", force_remount=True).\n"
     ]
    }
   ],
   "source": [
    "drive.mount('/content/drive')"
   ]
  },
  {
   "cell_type": "code",
   "execution_count": null,
   "metadata": {
    "id": "m1iRyli5EDpe"
   },
   "outputs": [],
   "source": [
    "\n",
    "import tensorflow.keras\n",
    "from tensorflow.keras.models import Model\n",
    "from tensorflow.keras.layers import Input, Dense, Activation, Flatten, Conv2D, MaxPool2D, Dropout\n",
    "from tensorflow.keras.optimizers import Adam \n",
    "from tensorflow.keras.preprocessing.image import ImageDataGenerator\n",
    "from tensorflow.keras.losses import binary_crossentropy\n",
    "from tensorflow.keras import metrics\n",
    "import matplotlib.pyplot as plt\n",
    "from sklearn.metrics import classification_report, confusion_matrix, plot_confusion_matrix, ConfusionMatrixDisplay\n",
    "import numpy as np\n",
    "\n"
   ]
  },
  {
   "cell_type": "code",
   "execution_count": null,
   "metadata": {
    "id": "Utc2RE8hImLi"
   },
   "outputs": [],
   "source": [
    "train_loc = '/content/drive/My Drive/our_DATA/train/'\n",
    "test_loc= '/content/drive/My Drive/our_DATA/val/'"
   ]
  },
  {
   "cell_type": "code",
   "execution_count": null,
   "metadata": {
    "colab": {
     "base_uri": "https://localhost:8080/"
    },
    "id": "6XXrLqA1JUwk",
    "outputId": "b7773c1e-7d3c-40e8-d0fe-0aa674c2d0fa"
   },
   "outputs": [
    {
     "name": "stdout",
     "output_type": "stream",
     "text": [
      "Found 278 images belonging to 2 classes.\n",
      "Found 118 images belonging to 2 classes.\n"
     ]
    }
   ],
   "source": [
    "trdata = ImageDataGenerator(rescale=1./255,\n",
    "                            shear_range = 0.2,\n",
    "                            zoom_range =0.2,\n",
    "                            horizontal_flip= True ,  )\n",
    "                              \n",
    "traindata = trdata.flow_from_directory(directory=train_loc ,target_size =(224,224))\n",
    "\n",
    "tsdata = ImageDataGenerator(rescale=1./255,\n",
    "                            shear_range = 0.2,\n",
    "                            zoom_range =0.2,\n",
    "                            horizontal_flip= True , )\n",
    "                              \n",
    "testndata = tsdata.flow_from_directory(directory=test_loc ,target_size =(224,224))\n"
   ]
  },
  {
   "cell_type": "code",
   "execution_count": null,
   "metadata": {
    "colab": {
     "base_uri": "https://localhost:8080/"
    },
    "id": "mrO8WhaDMYs6",
    "outputId": "498d6d74-f087-4001-ee5b-7eea6f49f6b2"
   },
   "outputs": [
    {
     "data": {
      "text/plain": [
       "{'COVED+': 0, 'COVED-': 1}"
      ]
     },
     "execution_count": 13,
     "metadata": {
      "tags": []
     },
     "output_type": "execute_result"
    }
   ],
   "source": [
    "traindata.class_indices"
   ]
  },
  {
   "cell_type": "code",
   "execution_count": null,
   "metadata": {
    "id": "1XywUEr5MVMc"
   },
   "outputs": [],
   "source": [
    "input_shape=(224,224,3)\n",
    "#input layer\n",
    "img_input = Input(shape = input_shape , name ='img_input')\n",
    "#bulid model \n",
    "x=Conv2D(32,(3,3),padding ='same',activation='relu',name='layer_1')(img_input)\n",
    "\n",
    "\n",
    "x=Conv2D(64,(3,3),padding ='same',activation='relu',name='layer_2')(x)\n",
    "x=MaxPool2D((2,2) , strides=(2,2),name='layer_3')(x)\n",
    "x=Dropout(0.25)(x)\n",
    "\n",
    "x=Conv2D(64,(3,3),padding ='same',activation='relu',name='layer_4')(x)\n",
    "x=MaxPool2D((2,2) , strides=(2,2),name='layer_5')(x)\n",
    "x=Dropout(0.25)(x)\n",
    "\n",
    "\n",
    "x=Conv2D(128,(3,3),padding ='same',activation='relu',name='layer_6')(x)\n",
    "x=MaxPool2D((2,2) , strides=(2,2),name='layer_7')(x)\n",
    "x=Dropout(0.25)(x)\n",
    "\n",
    "x= Flatten(name='layer_8') (x)\n",
    "x=Dense(64,name = 'layer_9') (x)\n",
    "x=Dropout(0.50)(x)\n",
    "x= Dense(2,activation='sigmoid',name='predections')(x)\n"
   ]
  },
  {
   "cell_type": "code",
   "execution_count": null,
   "metadata": {
    "id": "_Uhi3lQMa0E_"
   },
   "outputs": [],
   "source": [
    "#generat model\n",
    "model =Model(inputs=img_input,outputs=x,name='covid_19')"
   ]
  },
  {
   "cell_type": "code",
   "execution_count": null,
   "metadata": {
    "colab": {
     "base_uri": "https://localhost:8080/"
    },
    "id": "mntSFHnMbkzT",
    "outputId": "36b4377f-6012-403b-a1fa-304ae0f2e890"
   },
   "outputs": [
    {
     "name": "stdout",
     "output_type": "stream",
     "text": [
      "Model: \"covid_19\"\n",
      "_________________________________________________________________\n",
      "Layer (type)                 Output Shape              Param #   \n",
      "=================================================================\n",
      "img_input (InputLayer)       [(None, 224, 224, 3)]     0         \n",
      "_________________________________________________________________\n",
      "layer_1 (Conv2D)             (None, 224, 224, 32)      896       \n",
      "_________________________________________________________________\n",
      "layer_2 (Conv2D)             (None, 224, 224, 64)      18496     \n",
      "_________________________________________________________________\n",
      "layer_3 (MaxPooling2D)       (None, 112, 112, 64)      0         \n",
      "_________________________________________________________________\n",
      "dropout_4 (Dropout)          (None, 112, 112, 64)      0         \n",
      "_________________________________________________________________\n",
      "layer_4 (Conv2D)             (None, 112, 112, 64)      36928     \n",
      "_________________________________________________________________\n",
      "layer_5 (MaxPooling2D)       (None, 56, 56, 64)        0         \n",
      "_________________________________________________________________\n",
      "dropout_5 (Dropout)          (None, 56, 56, 64)        0         \n",
      "_________________________________________________________________\n",
      "layer_6 (Conv2D)             (None, 56, 56, 128)       73856     \n",
      "_________________________________________________________________\n",
      "layer_7 (MaxPooling2D)       (None, 28, 28, 128)       0         \n",
      "_________________________________________________________________\n",
      "dropout_6 (Dropout)          (None, 28, 28, 128)       0         \n",
      "_________________________________________________________________\n",
      "layer_8 (Flatten)            (None, 100352)            0         \n",
      "_________________________________________________________________\n",
      "layer_9 (Dense)              (None, 64)                6422592   \n",
      "_________________________________________________________________\n",
      "dropout_7 (Dropout)          (None, 64)                0         \n",
      "_________________________________________________________________\n",
      "predections (Dense)          (None, 2)                 130       \n",
      "=================================================================\n",
      "Total params: 6,552,898\n",
      "Trainable params: 6,552,898\n",
      "Non-trainable params: 0\n",
      "_________________________________________________________________\n"
     ]
    }
   ],
   "source": [
    "# pint network structure\n",
    "model.summary()"
   ]
  },
  {
   "cell_type": "code",
   "execution_count": null,
   "metadata": {
    "id": "tira5-qadTdF"
   },
   "outputs": [],
   "source": [
    "# Cmpiling the model\n",
    "model.compile(optimizer = 'adam', loss = binary_crossentropy , metrics=['accuracy'])"
   ]
  },
  {
   "cell_type": "code",
   "execution_count": null,
   "metadata": {
    "colab": {
     "base_uri": "https://localhost:8080/"
    },
    "id": "Wrb0hJMYd0Kt",
    "outputId": "a5ec18bb-ad87-404b-c2a8-57182997a51b"
   },
   "outputs": [
    {
     "name": "stdout",
     "output_type": "stream",
     "text": [
      "Epoch 1/40\n",
      "9/9 [==============================] - 93s 10s/step - loss: 0.2399 - accuracy: 0.9029 - val_loss: 0.2918 - val_accuracy: 0.9062\n",
      "Epoch 2/40\n",
      "9/9 [==============================] - 93s 10s/step - loss: 0.2338 - accuracy: 0.9065 - val_loss: 0.2701 - val_accuracy: 0.9375\n",
      "Epoch 3/40\n",
      "9/9 [==============================] - 93s 10s/step - loss: 0.2093 - accuracy: 0.9353 - val_loss: 0.3049 - val_accuracy: 0.9062\n",
      "Epoch 4/40\n",
      "9/9 [==============================] - 96s 11s/step - loss: 0.1423 - accuracy: 0.9496 - val_loss: 0.1970 - val_accuracy: 0.9375\n",
      "Epoch 5/40\n",
      "9/9 [==============================] - 92s 10s/step - loss: 0.1819 - accuracy: 0.9353 - val_loss: 0.2653 - val_accuracy: 0.9062\n",
      "Epoch 6/40\n",
      "9/9 [==============================] - 93s 11s/step - loss: 0.2284 - accuracy: 0.9353 - val_loss: 0.2701 - val_accuracy: 0.8750\n",
      "Epoch 7/40\n",
      "9/9 [==============================] - 93s 10s/step - loss: 0.1555 - accuracy: 0.9568 - val_loss: 0.3794 - val_accuracy: 0.8750\n",
      "Epoch 8/40\n",
      "9/9 [==============================] - 92s 10s/step - loss: 0.1290 - accuracy: 0.9640 - val_loss: 0.3369 - val_accuracy: 0.8750\n",
      "Epoch 9/40\n",
      "9/9 [==============================] - 97s 11s/step - loss: 0.1532 - accuracy: 0.9460 - val_loss: 0.3116 - val_accuracy: 0.9062\n",
      "Epoch 10/40\n",
      "9/9 [==============================] - 93s 10s/step - loss: 0.1307 - accuracy: 0.9604 - val_loss: 0.1790 - val_accuracy: 0.9375\n",
      "Epoch 11/40\n",
      "9/9 [==============================] - 93s 10s/step - loss: 0.1350 - accuracy: 0.9568 - val_loss: 0.0980 - val_accuracy: 1.0000\n",
      "Epoch 12/40\n",
      "9/9 [==============================] - 93s 10s/step - loss: 0.1409 - accuracy: 0.9568 - val_loss: 0.1971 - val_accuracy: 0.9375\n",
      "Epoch 13/40\n",
      "9/9 [==============================] - 93s 10s/step - loss: 0.0957 - accuracy: 0.9676 - val_loss: 0.2183 - val_accuracy: 0.9688\n",
      "Epoch 14/40\n",
      "9/9 [==============================] - 96s 11s/step - loss: 0.1003 - accuracy: 0.9676 - val_loss: 0.2789 - val_accuracy: 0.9062\n",
      "Epoch 15/40\n",
      "9/9 [==============================] - 94s 10s/step - loss: 0.1331 - accuracy: 0.9496 - val_loss: 0.3628 - val_accuracy: 0.8438\n",
      "Epoch 16/40\n",
      "9/9 [==============================] - 93s 10s/step - loss: 0.0947 - accuracy: 0.9748 - val_loss: 0.1552 - val_accuracy: 0.9062\n",
      "Epoch 17/40\n",
      "9/9 [==============================] - 93s 10s/step - loss: 0.1446 - accuracy: 0.9568 - val_loss: 0.3399 - val_accuracy: 0.9062\n",
      "Epoch 18/40\n",
      "9/9 [==============================] - 101s 11s/step - loss: 0.0992 - accuracy: 0.9748 - val_loss: 0.2045 - val_accuracy: 0.9375\n",
      "Epoch 19/40\n",
      "9/9 [==============================] - 93s 11s/step - loss: 0.1070 - accuracy: 0.9640 - val_loss: 0.2801 - val_accuracy: 0.9688\n",
      "Epoch 20/40\n",
      "9/9 [==============================] - 93s 10s/step - loss: 0.1115 - accuracy: 0.9712 - val_loss: 0.3036 - val_accuracy: 0.9062\n",
      "Epoch 21/40\n",
      "9/9 [==============================] - 93s 10s/step - loss: 0.1431 - accuracy: 0.9640 - val_loss: 0.2790 - val_accuracy: 0.9062\n",
      "Epoch 22/40\n",
      "9/9 [==============================] - 93s 10s/step - loss: 0.1140 - accuracy: 0.9640 - val_loss: 0.2242 - val_accuracy: 0.9375\n",
      "Epoch 23/40\n",
      "9/9 [==============================] - 93s 10s/step - loss: 0.0592 - accuracy: 0.9820 - val_loss: 0.1474 - val_accuracy: 0.9375\n",
      "Epoch 24/40\n",
      "9/9 [==============================] - 93s 10s/step - loss: 0.1224 - accuracy: 0.9604 - val_loss: 0.3347 - val_accuracy: 0.8750\n",
      "Epoch 25/40\n",
      "9/9 [==============================] - 93s 10s/step - loss: 0.1027 - accuracy: 0.9748 - val_loss: 0.2244 - val_accuracy: 0.9375\n",
      "Epoch 26/40\n",
      "9/9 [==============================] - 92s 10s/step - loss: 0.0706 - accuracy: 0.9676 - val_loss: 0.1800 - val_accuracy: 0.9062\n",
      "Epoch 27/40\n",
      "9/9 [==============================] - 92s 10s/step - loss: 0.0541 - accuracy: 0.9892 - val_loss: 0.0553 - val_accuracy: 1.0000\n",
      "Epoch 28/40\n",
      "9/9 [==============================] - 93s 10s/step - loss: 0.0777 - accuracy: 0.9712 - val_loss: 0.0557 - val_accuracy: 1.0000\n",
      "Epoch 29/40\n",
      "9/9 [==============================] - 92s 10s/step - loss: 0.0659 - accuracy: 0.9820 - val_loss: 0.2182 - val_accuracy: 0.9375\n",
      "Epoch 30/40\n",
      "9/9 [==============================] - 93s 10s/step - loss: 0.0777 - accuracy: 0.9856 - val_loss: 0.3310 - val_accuracy: 0.8750\n",
      "Epoch 31/40\n",
      "9/9 [==============================] - 93s 10s/step - loss: 0.0585 - accuracy: 0.9856 - val_loss: 0.0913 - val_accuracy: 0.9688\n",
      "Epoch 32/40\n",
      "9/9 [==============================] - 93s 10s/step - loss: 0.0560 - accuracy: 0.9820 - val_loss: 0.1253 - val_accuracy: 0.9375\n",
      "Epoch 33/40\n",
      "9/9 [==============================] - 92s 10s/step - loss: 0.0756 - accuracy: 0.9748 - val_loss: 0.1460 - val_accuracy: 0.9375\n",
      "Epoch 34/40\n",
      "9/9 [==============================] - 93s 10s/step - loss: 0.0577 - accuracy: 0.9856 - val_loss: 0.1644 - val_accuracy: 0.9375\n",
      "Epoch 35/40\n",
      "9/9 [==============================] - 93s 10s/step - loss: 0.0521 - accuracy: 0.9820 - val_loss: 0.0973 - val_accuracy: 0.9688\n",
      "Epoch 36/40\n",
      "9/9 [==============================] - 93s 10s/step - loss: 0.0790 - accuracy: 0.9748 - val_loss: 0.0781 - val_accuracy: 0.9688\n",
      "Epoch 37/40\n",
      "9/9 [==============================] - 92s 10s/step - loss: 0.0877 - accuracy: 0.9748 - val_loss: 0.1191 - val_accuracy: 0.9688\n",
      "Epoch 38/40\n",
      "9/9 [==============================] - 92s 10s/step - loss: 0.0659 - accuracy: 0.9748 - val_loss: 0.2019 - val_accuracy: 0.9375\n",
      "Epoch 39/40\n",
      "9/9 [==============================] - 92s 11s/step - loss: 0.0562 - accuracy: 0.9820 - val_loss: 0.1496 - val_accuracy: 0.9062\n",
      "Epoch 40/40\n",
      "9/9 [==============================] - 93s 11s/step - loss: 0.0827 - accuracy: 0.9784 - val_loss: 0.0722 - val_accuracy: 1.0000\n"
     ]
    }
   ],
   "source": [
    "batch_size = 30\n",
    "hist = model.fit(traindata, \n",
    "                 steps_per_epoch = traindata.samples//batch_size,\n",
    "                 validation_data = testndata,\n",
    "                 validation_steps = testndata.samples//batch_size,\n",
    "                 epochs = 40\n",
    "                 )"
   ]
  },
  {
   "cell_type": "code",
   "execution_count": null,
   "metadata": {
    "colab": {
     "base_uri": "https://localhost:8080/",
     "height": 281
    },
    "id": "AM7w_pkdlqMt",
    "outputId": "4d53ad61-1684-4ab6-fb29-5c8ecea23991"
   },
   "outputs": [
    {
     "data": {
      "image/png": "[encoded data removed]",
      "text/plain": [
       "<Figure size 432x288 with 1 Axes>"
      ]
     },
     "metadata": {
      "needs_background": "light",
      "tags": []
     },
     "output_type": "display_data"
    }
   ],
   "source": [
    "plt.plot(hist.history['loss'], label = 'train')\n",
    "plt.plot(hist.history['val_loss'], label= 'val')\n",
    "plt.title('CNN_COVID_19 : Loss & Valdation Loss')\n",
    "plt.legend()\n",
    "plt.show()\n"
   ]
  },
  {
   "cell_type": "code",
   "execution_count": null,
   "metadata": {
    "colab": {
     "base_uri": "https://localhost:8080/",
     "height": 281
    },
    "id": "nuaw-c9unFtQ",
    "outputId": "7ae93f65-b1ab-4648-cc76-bc9545df309f"
   },
   "outputs": [
    {
     "data": {
      "image/png": "[encoded data removed]",
      "text/plain": [
       "<Figure size 432x288 with 1 Axes>"
      ]
     },
     "metadata": {
      "needs_background": "light",
      "tags": []
     },
     "output_type": "display_data"
    }
   ],
   "source": [
    "import numpy as np\n",
    "\n",
    "plt.plot(hist.history['accuracy'], label = 'train')\n",
    "plt.plot(hist.history['val_accuracy'], label= 'val')\n",
    "plt.title('CNN_COVID_19 : Accuracy & Valdation Loss')\n",
    "plt.legend()\n",
    "plt.show()"
   ]
  },
  {
   "cell_type": "code",
   "execution_count": null,
   "metadata": {
    "colab": {
     "base_uri": "https://localhost:8080/",
     "height": 569
    },
    "id": "D1mp3sv86mBy",
    "outputId": "24541812-38fe-4932-c07d-2ccd2eaa717b"
   },
   "outputs": [
    {
     "name": "stderr",
     "output_type": "stream",
     "text": [
      "/usr/local/lib/python3.7/dist-packages/tensorflow/python/keras/engine/training.py:2001: UserWarning: `Model.predict_generator` is deprecated and will be removed in a future version. Please use `Model.predict`, which supports generators.\n",
      "  warnings.warn('`Model.predict_generator` is deprecated and '\n"
     ]
    },
    {
     "name": "stdout",
     "output_type": "stream",
     "text": [
      "Confusion Matrix\n",
      "[[34 25]\n",
      " [30 29]]\n",
      "classification_Report\n",
      "              precision    recall  f1-score   support\n",
      "\n",
      "      COVID+       0.53      0.58      0.55        59\n",
      "      COVID-       0.54      0.49      0.51        59\n",
      "\n",
      "    accuracy                           0.53       118\n",
      "   macro avg       0.53      0.53      0.53       118\n",
      "weighted avg       0.53      0.53      0.53       118\n",
      "\n"
     ]
    },
    {
     "data": {
      "image/png": "[encoded data removed]",
      "text/plain": [
       "<Figure size 432x288 with 2 Axes>"
      ]
     },
     "metadata": {
      "needs_background": "light",
      "tags": []
     },
     "output_type": "display_data"
    }
   ],
   "source": [
    "target_names = ['COVID+', 'COVID-']\n",
    "label_names = [0,1]\n",
    "\n",
    "Y_pred = model.predict_generator(testndata)\n",
    "y_pred = np.argmax(Y_pred ,  axis = 1)\n",
    "\n",
    "cm = confusion_matrix(testndata.classes, y_pred, labels = label_names)\n",
    "\n",
    "\n",
    "print('Confusion Matrix')\n",
    "print(confusion_matrix(testndata.classes, y_pred))\n",
    "\n",
    "print('classification_Report')\n",
    "print(classification_report(testndata.classes, y_pred, target_names=target_names))\n",
    "\n",
    "disp = ConfusionMatrixDisplay(confusion_matrix= cm, display_labels=target_names)\n",
    "disp = disp.plot(cmap=plt.cm.Blues, values_format = 'g')\n",
    "plt.show()"
   ]
  }
 ],
 "metadata": {
  "accelerator": "TPU",
  "colab": {
   "collapsed_sections": [],
   "name": "data_tool_ (2).ipynb",
   "provenance": []
  },
  "kernelspec": {
   "display_name": "Python 3 (ipykernel)",
   "language": "python",
   "name": "python3"
  },
  "language_info": {
   "codemirror_mode": {
    "name": "ipython",
    "version": 3
   },
   "file_extension": ".py",
   "mimetype": "text/x-python",
   "name": "python",
   "nbconvert_exporter": "python",
   "pygments_lexer": "ipython3",
   "version": "3.9.12"
  }
 },
 "nbformat": 4,
 "nbformat_minor": 1
}
